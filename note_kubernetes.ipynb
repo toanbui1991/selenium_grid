{
 "cells": [
  {
   "cell_type": "code",
   "execution_count": null,
   "metadata": {},
   "outputs": [],
   "source": [
    "#note about ingress object in kubernetes:\n",
    "#ingress manages external access to service in a cluster\n",
    "#create kubernetes object instance with command: kubectl create -f file_path"
   ]
  },
  {
   "cell_type": "code",
   "execution_count": null,
   "metadata": {},
   "outputs": [],
   "source": [
    "curl -k -XGET  -H \"Accept: application/json\" -H \"Authorization: Bearer $TOKEN\" 'https://127.0.0.1:49154/api/v1/namespaces/default/pods/demo-pod'"
   ]
  },
  {
   "cell_type": "code",
   "execution_count": null,
   "metadata": {},
   "outputs": [],
   "source": [
    "curl -X PATCH https://192.168.99.100:8443/apis/apps/v1/namespaces/default/deployments/selenium-node-chrome-deployment/scale \\\n",
    "--header \"Authorization: Bearer $API_TOKEN\" \\\n",
    "--header 'Accept: application/json' \\\n",
    "--header 'Content-Type: application/strategic-merge-patch+json' \\\n",
    "--insecure \\\n",
    "--data '{\"spec\": {\"replicas\":  2}}'"
   ]
  },
  {
   "cell_type": "code",
   "execution_count": null,
   "metadata": {},
   "outputs": [],
   "source": [
    "kubectl --v=9 get pod selenium-node-chrome-deployment-7cf8c89949-gp6zv"
   ]
  },
  {
   "cell_type": "code",
   "execution_count": null,
   "metadata": {},
   "outputs": [],
   "source": [
    "API_TOKEN=<token value extracted above>\n",
    "curl -X PATCH https://192.168.49.2:8443/apis/apps/v1/namespaces/default/deployment/selenium-node-chrome-deployment/scale\\\n",
    "--header \"Authorization: Bearer $API_TOKEN\" \\\n",
    "--header 'Accept: application/json' \\\n",
    "--header 'Content-Type: application/strategic-merge-patch+json' \\\n",
    "--insecure \\\n",
    "--data '{\"spec\": {\"replicas\":  2}}'"
   ]
  },
  {
   "cell_type": "code",
   "execution_count": null,
   "metadata": {},
   "outputs": [],
   "source": [
    "kubectl describe secrets/auto-scale-robot-sa-token-8xkdb"
   ]
  },
  {
   "cell_type": "code",
   "execution_count": null,
   "metadata": {},
   "outputs": [],
   "source": [
    "#Note about minikube which is command line tools to create kubernetes clutter on your personal computer\n",
    "# to start kubernetes cluster on your pc use minikube start command\n",
    "minikube start\n",
    "# to check kubernetes cluster use command:\n",
    "kubectl get all\n",
    "# to check kubernetes cluster with minikube ui use command\n",
    "minikube dashboard\n",
    "#note about use ui in wsl, we have to have xlaunch running\n",
    "#and have to launch google-chromme with command: google-chrome\n",
    "#and then run command to start minikube ui: minikube dashboard"
   ]
  },
  {
   "cell_type": "code",
   "execution_count": null,
   "metadata": {},
   "outputs": [],
   "source": [
    "#what is api?\n",
    "    #api (application programming interface): so it is an interface for application to comunicate to each others\n",
    "#what is restful?\n",
    "    #rest (REpresentational State Transfer): which is a set of guiding principles and constraints:\n",
    "    #here is some guiding principles and constraints: \n",
    "        #1. uniform interface (api have to be stable and consistent)\n",
    "        #2. client-server (system is design with client and server architect)\n",
    "        #3. stateless (all request have to have all information need to process request, do not use other information from other request)\n",
    "        #4. cacheable (response should be label as cacheable or non-cacheable)\n",
    "        #5. layered system (a system should be design in layer each layer have one responsible)\n",
    "        #6. code on demand (the ability to send executable code from servier to client to extend functionality of client)"
   ]
  },
  {
   "cell_type": "code",
   "execution_count": null,
   "metadata": {},
   "outputs": [],
   "source": [
    "#what is service in kubernetes:\n",
    "    #service in kubernetes is a group of pods which have the same funtion. think a service is a a software which an abstraction which allow different software to communicate with it.\n",
    "#how service can act as an abstraction for pod to comunicate with other service?\n",
    "    #we can define selector and targetPort to define how service select pods and communicate with those pods\n"
   ]
  },
  {
   "cell_type": "code",
   "execution_count": null,
   "metadata": {},
   "outputs": [],
   "source": [
    "#what is deployment in kubernetes:\n",
    "    #deployment is a set of definition for your deployment of service in kubernetes. deployment is like a combination of serive and pod\n",
    "    #in deployment we also have to define selector (select the pod), template (define each pod of the deployment)\n",
    "\n",
    "#what is the different between deployment vs service?\n",
    "    #deployment is responsible for keep the pod running as defined\n",
    "    #service is responsible for define how to access those pods from outside\n",
    "    #so service and deployment is different and working to gether.\n",
    "    "
   ]
  },
  {
   "cell_type": "code",
   "execution_count": null,
   "metadata": {},
   "outputs": [],
   "source": [
    "#Note about Ingress in Kubernetes:\n",
    "\n",
    "#what is ingress?\n",
    "    #ingress is the definition on how external request access service (typically http).\n",
    "    "
   ]
  },
  {
   "cell_type": "code",
   "execution_count": null,
   "metadata": {},
   "outputs": [],
   "source": [
    "#Note about the concept of service account, role, role binding\n",
    "#service account is like a key for robot use to access resource in google cloud\n",
    "#role is the definition of what account can be done on what resource\n",
    "#role biding is the definition or mapping between service account and role\n",
    "\n",
    "#to create service account, role, and role biding use command kubectl create -f definition_file.yaml\n",
    "kubectl create -f auto-scale-robot-sa.yaml && \\\n",
    "kubectl create -f auto-scale-robot-role.yaml && \\\n",
    "kubectl create -f auto-scale-robot-rb.yaml\n",
    "\n",
    "#to check service account and role use command get\n",
    "kubectl get serviceaccount\n",
    "kubectl get role\n",
    "#to list role-biding use this command:\n",
    "kubectl get rolebindings,clusterrolebindings --all-namespaces  -o custom-columns='KIND:kind,NAMESPACE:metadata.namespace,NAME:metadata.name,SERVICE_ACCOUNTS:subjects[?(@.kind==\"ServiceAccount\")].name'\n"
   ]
  }
 ],
 "metadata": {
  "language_info": {
   "name": "python"
  },
  "orig_nbformat": 4
 },
 "nbformat": 4,
 "nbformat_minor": 2
}
